{
 "cells": [
  {
   "cell_type": "markdown",
   "metadata": {
    "slideshow": {
     "slide_type": "slide"
    }
   },
   "source": [
    "<h1 align=\"center\">Implementing an autosuggest module</h1> \n",
    "\n",
    "---"
   ]
  },
  {
   "cell_type": "markdown",
   "metadata": {
    "collapsed": true,
    "slideshow": {
     "slide_type": "slide"
    }
   },
   "source": [
    "## Content:\n",
    "\n",
    "### 1. Why Autosuggest?\n",
    "### 2. Which Data ?\n",
    "### 3. Clean Data \n",
    "### 4. Which Algorithm? \n",
    "### 5. Deploy and integrate.."
   ]
  },
  {
   "cell_type": "markdown",
   "metadata": {
    "slideshow": {
     "slide_type": "slide"
    }
   },
   "source": [
    "### 1. Why Autosuggest?\n",
    "- ⏱️**save your users time**\n",
    "\n",
    "similar to autocomplete --> suggest most probable keywords. avoid misspellings\n",
    "\n",
    "Induce a response time constraint ≈ 16ms \n",
    "- 💡**provide your user with relevant keywords and/or most frequent queries**\n",
    "\n",
    "It's very likely that someone else got the exact same problem before you.\n",
    "\n",
    "- **Optimize an objective** \n",
    "\n",
    "An E-commerce website might want to suggest queries which maximize their revenue.."
   ]
  },
  {
   "cell_type": "markdown",
   "metadata": {
    "collapsed": true,
    "slideshow": {
     "slide_type": "slide"
    }
   },
   "source": [
    "![example](example.png)"
   ]
  },
  {
   "cell_type": "markdown",
   "metadata": {
    "slideshow": {
     "slide_type": "slide"
    }
   },
   "source": [
    "### 2. Which Data ?\n",
    "\n",
    "Ideally logs of user queries.\n",
    "Often not available when designing and new product.\n",
    "\n",
    "Alternatives:\n",
    "1. find Data which looks like user Data.\n",
    "\n",
    "Webscrapping (search engines, forums, ...)\n",
    "\n",
    "2. Use Data of your own collections (titles, nouns chunks, keywords extraction...).\n",
    "\n",
    "You will need a collection of at least a few thousands queries.\n",
    "\n",
    "⚠️**Queries should  not necessarily match documents of your database**"
   ]
  },
  {
   "cell_type": "markdown",
   "metadata": {
    "slideshow": {
     "slide_type": "slide"
    }
   },
   "source": [
    "<h3 align=\"center\">Use of forums posts titles as pseudo queries</h3> \n",
    "<img src=\"forum-screen.png\" alt=\"forum\" width=\"642\" align=\"center\">"
   ]
  },
  {
   "cell_type": "markdown",
   "metadata": {
    "slideshow": {
     "slide_type": "slide"
    }
   },
   "source": [
    "### Cleaning Data: example with [service-public.fr](https://www.service-public.fr/) Logs"
   ]
  },
  {
   "cell_type": "code",
   "execution_count": 144,
   "metadata": {
    "slideshow": {
     "slide_type": "-"
    }
   },
   "outputs": [
    {
     "data": {
      "text/plain": [
       "[['filtre', '508627'],\n",
       " ['etatcivil', '381965'],\n",
       " ['filtre', '295580'],\n",
       " ['jechangedecoordonnees', '236041'],\n",
       " ['inscriptionelectorale', '179999'],\n",
       " ['acte de naissance', '79663'],\n",
       " ['fcb', '43800'],\n",
       " ['insregistrefr', '32524'],\n",
       " ['md', '31369'],\n",
       " [\"carte d'identité\", '21107']]"
      ]
     },
     "execution_count": 144,
     "metadata": {},
     "output_type": "execute_result"
    }
   ],
   "source": [
    "with open(\"./logs-sp.txt\") as f:\n",
    "    logs = f.read().splitlines()\n",
    "\n",
    "logs = [l.split(\";\") for l in logs]\n",
    "logs[:10] # couples (query text, number of occurences)"
   ]
  },
  {
   "cell_type": "code",
   "execution_count": 155,
   "metadata": {},
   "outputs": [
    {
     "name": "stdout",
     "output_type": "stream",
     "text": [
      "199966\n",
      "2439050\n"
     ]
    }
   ],
   "source": [
    "logs = logs[5:] # remove first 5 queries\n",
    "print(len(logs)) # number of unique requests\n",
    "print(sum([int(l[1]) for l in logs])) # number of aggregated requests"
   ]
  },
  {
   "cell_type": "markdown",
   "metadata": {
    "slideshow": {
     "slide_type": "slide"
    }
   },
   "source": [
    "Cleaning optionnally involves:\n",
    "    - lowercase\n",
    "    - remove some punctuation\n",
    "    - remove noise\n",
    "    - remove accents with ascii\n",
    "    - remove long digits\n",
    "    - remove dates ...\n",
    "    - remove user data..\n",
    "    - remove uninformative queries (\"help\", \"jechangedecoordonnees\")\n",
    "    - filter out queries having occurence under T\n",
    "    - remove queries with small edit distance to frequent queries (carte d'identité, carte d identité)\n",
    "    - remove misspelled queries (usually around 20%) \n",
    "\n",
    "- most of the time, the cleaning phase is dataset dependent"
   ]
  },
  {
   "cell_type": "markdown",
   "metadata": {
    "slideshow": {
     "slide_type": "slide"
    }
   },
   "source": [
    "### 4. Which Algorithm ? \n",
    "\n",
    "-  suggestion time should remain below 50ms \n",
    "    - Keep Complexity low\n",
    "    \n",
    " \n",
    "- your query/document list probabbly will evolve/grow with time\n",
    "\n",
    "\n",
    "\n",
    "- the algorithm has 2 steps:\n",
    "    - indexing step (does'nt need to be fast)\n",
    "    - search step (keep as low as possible)\n",
    "\n",
    "its easy to trade memory against speed at indexing time"
   ]
  },
  {
   "cell_type": "markdown",
   "metadata": {
    "slideshow": {
     "slide_type": "slide"
    }
   },
   "source": [
    "# Simple baseline"
   ]
  },
  {
   "cell_type": "code",
   "execution_count": 175,
   "metadata": {
    "slideshow": {
     "slide_type": "-"
    }
   },
   "outputs": [
    {
     "data": {
      "text/plain": [
       "[['congé parental', '2742'],\n",
       " ['congé maternité', '1598'],\n",
       " ['congé paternité', '912'],\n",
       " ['congés payés', '904'],\n",
       " ['congé de paternité', '640'],\n",
       " ['congé sabbatique', '497'],\n",
       " ['congés annuels', '488'],\n",
       " [\"congé parental d'éducation\", '481'],\n",
       " ['congé de naissance', '448'],\n",
       " ['congés', '425'],\n",
       " ['conges payes', '328'],\n",
       " ['congé', '328'],\n",
       " ['conge parental', '308'],\n",
       " ['congé payé', '306'],\n",
       " ['congé sans solde', '288']]"
      ]
     },
     "execution_count": 175,
     "metadata": {},
     "output_type": "execute_result"
    }
   ],
   "source": [
    "# Simple baseline:\n",
    "\n",
    "# at search time: sort request by frequencies\n",
    "# filter out the documents \n",
    "\n",
    "prefix = \"cong\"\n",
    "topn = 15\n",
    "\n",
    "[l for l in logs if l[0].startswith(prefix)][:topn]"
   ]
  },
  {
   "cell_type": "markdown",
   "metadata": {
    "slideshow": {
     "slide_type": "slide"
    }
   },
   "source": [
    "# simulate with ipywidgets"
   ]
  },
  {
   "cell_type": "code",
   "execution_count": 185,
   "metadata": {
    "slideshow": {
     "slide_type": "-"
    }
   },
   "outputs": [
    {
     "data": {
      "application/vnd.jupyter.widget-view+json": {
       "model_id": "338c35a110534e1a82c397c2d7207bb7",
       "version_major": 2,
       "version_minor": 0
      },
      "text/plain": [
       "A Jupyter Widget"
      ]
     },
     "metadata": {},
     "output_type": "display_data"
    }
   ],
   "source": [
    "from ipywidgets import interact\n",
    "\n",
    "def search(prefix):\n",
    "    return [l for l in logs if l[0].startswith(prefix)][:topn]\n",
    "\n",
    "inter = interact(search, prefix = \"\")"
   ]
  },
  {
   "cell_type": "markdown",
   "metadata": {
    "slideshow": {
     "slide_type": "slide"
    }
   },
   "source": [
    "# Complexity of O(N), with N: nb of queries"
   ]
  },
  {
   "cell_type": "code",
   "execution_count": 168,
   "metadata": {
    "scrolled": true,
    "slideshow": {
     "slide_type": "-"
    }
   },
   "outputs": [
    {
     "name": "stdout",
     "output_type": "stream",
     "text": [
      "37.6 ms ± 483 µs per loop (mean ± std. dev. of 7 runs, 10 loops each)\n"
     ]
    }
   ],
   "source": [
    "%timeit [l for l in logs if l[0].startswith(prefix)][:topn]"
   ]
  },
  {
   "cell_type": "code",
   "execution_count": 198,
   "metadata": {},
   "outputs": [
    {
     "data": {
      "text/plain": [
       "1999660"
      ]
     },
     "execution_count": 198,
     "metadata": {},
     "output_type": "execute_result"
    }
   ],
   "source": [
    "# lets make the logs list 10 times bigger:\n",
    "\n",
    "big_logs = logs * 10\n",
    "big_logs = sorted(big_logs, key=lambda x: int(x[1]), reverse=True)\n",
    "len(big_logs)"
   ]
  },
  {
   "cell_type": "code",
   "execution_count": 197,
   "metadata": {},
   "outputs": [
    {
     "name": "stdout",
     "output_type": "stream",
     "text": [
      "353 ms ± 7.45 ms per loop (mean ± std. dev. of 7 runs, 1 loop each)\n"
     ]
    }
   ],
   "source": [
    "%timeit [l for l in big_logs if l[0].startswith(prefix)][:topn]"
   ]
  },
  {
   "cell_type": "markdown",
   "metadata": {},
   "source": [
    "Must read:\n",
    "\n",
    "* [a great blog post about autosuggest optimization and data structures](https://medium.com/related-works-inc/autosuggest-retrieval-data-structures-algorithms-3a902c74ffc8)"
   ]
  },
  {
   "cell_type": "markdown",
   "metadata": {
    "slideshow": {
     "slide_type": "slide"
    }
   },
   "source": [
    "# Trade Memory for cpu time"
   ]
  },
  {
   "cell_type": "code",
   "execution_count": 232,
   "metadata": {
    "slideshow": {
     "slide_type": "-"
    }
   },
   "outputs": [],
   "source": [
    "# Idea: make a hashtable of queries by starting string \n",
    "# search only in this table \n",
    "class Search():\n",
    "    def __init__(self, logs):\n",
    "        self.index(logs)\n",
    "    \n",
    "    def index(self, logs):\n",
    "        self.first_char = set([l[0][0] for l in logs]) # find all starting characters\n",
    "        # make an index with all first char\n",
    "\n",
    "        self.hashtab = {}\n",
    "        for char in self.first_char:\n",
    "            self.hashtab[char] = [l for l in logs if l[0].startswith(char)]\n",
    "            \n",
    "    def search(self, prefix):\n",
    "        subset = self.hashtab[prefix[0]]\n",
    "        return [l for l in subset if l[0].startswith(prefix)]"
   ]
  },
  {
   "cell_type": "code",
   "execution_count": 239,
   "metadata": {},
   "outputs": [],
   "source": [
    "s = Search(logs) # build hashtable"
   ]
  },
  {
   "cell_type": "code",
   "execution_count": 241,
   "metadata": {
    "scrolled": true
   },
   "outputs": [
    {
     "name": "stdout",
     "output_type": "stream",
     "text": [
      "11.6 ms ± 323 µs per loop (mean ± std. dev. of 7 runs, 100 loops each)\n"
     ]
    }
   ],
   "source": [
    "%timeit s.search(prefix) # perform actual search"
   ]
  },
  {
   "cell_type": "markdown",
   "metadata": {
    "slideshow": {
     "slide_type": "slide"
    }
   },
   "source": [
    "### You want fancier algorithm?\n",
    "\n",
    "    - handle typos with fuzzy search\n",
    "    - tree search\n",
    "    - seasonality \n",
    "    - Include User preferences\n",
    "    - Learning to rank\n",
    "    - NLP models (LM, clustering, Neural Query Embeddings etc..). \n",
    "\n",
    "### blog post from etsy: \n",
    "- [part 1 Data Scturctures and Optimization](https://medium.com/related-works-inc/autosuggest-retrieval-data-structures-algorithms-3a902c74ffc8)\n",
    "- [part 2: NLP and Fancy algorithms](https://medium.com/related-works-inc/autosuggest-ranking-d8a3242c2837)"
   ]
  },
  {
   "cell_type": "markdown",
   "metadata": {
    "slideshow": {
     "slide_type": "slide"
    }
   },
   "source": [
    "# Deployment and integration with Elastic:\n",
    "\n",
    "- For each search ≈2 suggestions, it's better to have a microservice.\n",
    "- if your application is overloaded, the autosuggest will probably be down first.\n",
    "\n",
    "\n",
    "we deployed as a [Flask/Gunicorn API](https://github.com/SocialGouv/code-du-travail-numerique/tree/master/packages/code-du-travail-nlp/api): (a simple GET route):\n",
    "- get prefix -> return an array of suggestions. \n",
    "\n",
    "- wrapped with your front ( few [lines of javascript](https://github.com/SocialGouv/code-du-travail-numerique/blob/master/packages/code-du-travail-frontend/src/common/Suggester.js) with debunking to avoid flooding)\n",
    "\n",
    "NOTE: Elastic has a [built-in suggester](https://www.elastic.co/guide/en/elasticsearch/reference/current/search-suggesters-completion.html) based on Indexed documents (search as you type)\n"
   ]
  },
  {
   "cell_type": "code",
   "execution_count": null,
   "metadata": {},
   "outputs": [],
   "source": []
  }
 ],
 "metadata": {
  "celltoolbar": "Slideshow",
  "kernelspec": {
   "display_name": "Python [conda root]",
   "language": "python",
   "name": "conda-root-py"
  },
  "language_info": {
   "codemirror_mode": {
    "name": "ipython",
    "version": 3
   },
   "file_extension": ".py",
   "mimetype": "text/x-python",
   "name": "python",
   "nbconvert_exporter": "python",
   "pygments_lexer": "ipython3",
   "version": "3.6.3"
  }
 },
 "nbformat": 4,
 "nbformat_minor": 2
}
