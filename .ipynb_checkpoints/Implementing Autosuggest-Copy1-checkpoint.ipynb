{
 "cells": [
  {
   "cell_type": "markdown",
   "metadata": {
    "slideshow": {
     "slide_type": "slide"
    }
   },
   "source": [
    "<h1 align=\"center\">Implementing an autosuggest module</h1> \n",
    "\n",
    "---"
   ]
  },
  {
   "cell_type": "markdown",
   "metadata": {
    "collapsed": true,
    "slideshow": {
     "slide_type": "slide"
    }
   },
   "source": [
    "## Content:\n",
    "\n",
    "### 1. Why Autosuggest?\n",
    "### 2. Which Data ?\n",
    "### 3. Clean Data ?\n",
    "### 4. Which Algorithm? \n",
    "### 5. Deploy and integrate.."
   ]
  },
  {
   "cell_type": "markdown",
   "metadata": {
    "slideshow": {
     "slide_type": "slide"
    }
   },
   "source": [
    "### 1. Why Autosuggest?\n",
    "- ⏱️**save your users time**\n",
    "\n",
    "similar to autocomplete --> suggest most probable keywords. avoid misspellings\n",
    "\n",
    "Induce a response time constraint ≈ 16ms \n",
    "- 💡**provide your user with relevant keywords and/or most frequent queries**\n",
    "\n",
    "It's very likely that someone else got the exact same problem before you.\n",
    "\n",
    "- **Optimize an objective** \n",
    "\n",
    "An E-commerce website might want to suggest queries which maximize their revenue.."
   ]
  },
  {
   "cell_type": "markdown",
   "metadata": {
    "collapsed": true,
    "slideshow": {
     "slide_type": "slide"
    }
   },
   "source": [
    "![example](example.png)"
   ]
  },
  {
   "cell_type": "code",
   "execution_count": null,
   "metadata": {},
   "outputs": [],
   "source": [
    "Which Data"
   ]
  },
  {
   "cell_type": "code",
   "execution_count": null,
   "metadata": {},
   "outputs": [],
   "source": [
    "with open(\"./wiki-titles.txt\") as f:\n",
    "    art_titles = f.read().splitlines()"
   ]
  },
  {
   "cell_type": "code",
   "execution_count": null,
   "metadata": {},
   "outputs": [],
   "source": [
    "art_titles"
   ]
  },
  {
   "cell_type": "code",
   "execution_count": null,
   "metadata": {},
   "outputs": [],
   "source": []
  }
 ],
 "metadata": {
  "celltoolbar": "Slideshow",
  "kernelspec": {
   "display_name": "Python [conda root]",
   "language": "python",
   "name": "conda-root-py"
  },
  "language_info": {
   "codemirror_mode": {
    "name": "ipython",
    "version": 3
   },
   "file_extension": ".py",
   "mimetype": "text/x-python",
   "name": "python",
   "nbconvert_exporter": "python",
   "pygments_lexer": "ipython3",
   "version": "3.6.3"
  }
 },
 "nbformat": 4,
 "nbformat_minor": 2
}
