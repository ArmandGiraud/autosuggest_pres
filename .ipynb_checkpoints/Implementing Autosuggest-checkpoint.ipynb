{
 "cells": [
  {
   "cell_type": "markdown",
   "metadata": {
    "slideshow": {
     "slide_type": "slide"
    }
   },
   "source": [
    "# Implementing an autosuggest module\n",
    "---"
   ]
  },
  {
   "cell_type": "markdown",
   "metadata": {
    "slideshow": {
     "slide_type": "slide"
    }
   },
   "source": [
    "### Toc:\n",
    "\n",
    "### 1. Why Autosuggest?\n",
    "### 2. Which Data ?\n",
    "### 3. Clean Data ?\n",
    "### 4. Which Algorithm? \n",
    "### 5. Deploy and integrate.."
   ]
  },
  {
   "cell_type": "code",
   "execution_count": null,
   "metadata": {
    "collapsed": true,
    "slideshow": {
     "slide_type": "slide"
    }
   },
   "outputs": [],
   "source": []
  },
  {
   "cell_type": "markdown",
   "metadata": {},
   "source": [
    "### 1. Why Autosuggest?\n",
    "\n",
    "two main reasons: \n",
    "- ⏱️**save your user time**\n",
    "\n",
    "similar to autocomplete --> suggest most probable keywords.\n",
    "- 💡**provide your user with relevant keywords and/or most frequent queries**\n",
    "\n",
    "It's very likely that someone else got the exact same problem before you.\n",
    "\n",
    "\n",
    "--> important for code du travail numérique"
   ]
  },
  {
   "cell_type": "code",
   "execution_count": null,
   "metadata": {
    "collapsed": true
   },
   "outputs": [],
   "source": []
  }
 ],
 "metadata": {
  "celltoolbar": "Slideshow",
  "kernelspec": {
   "display_name": "Python [conda root]",
   "language": "python",
   "name": "conda-root-py"
  },
  "language_info": {
   "codemirror_mode": {
    "name": "ipython",
    "version": 3
   },
   "file_extension": ".py",
   "mimetype": "text/x-python",
   "name": "python",
   "nbconvert_exporter": "python",
   "pygments_lexer": "ipython3",
   "version": "3.6.3"
  }
 },
 "nbformat": 4,
 "nbformat_minor": 2
}
